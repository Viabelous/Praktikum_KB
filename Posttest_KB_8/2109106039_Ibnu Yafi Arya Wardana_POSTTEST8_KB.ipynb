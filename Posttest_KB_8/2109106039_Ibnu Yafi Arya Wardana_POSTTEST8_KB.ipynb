{
 "cells": [
  {
   "cell_type": "markdown",
   "id": "173cb102",
   "metadata": {},
   "source": [
    "## Import Library"
   ]
  },
  {
   "cell_type": "code",
   "execution_count": 1,
   "id": "7fa83d2c",
   "metadata": {},
   "outputs": [],
   "source": [
    "import tensorflow_datasets as     tfds\n",
    "from   tensorflow          import keras\n",
    "from   keras               import datasets\n",
    "import numpy               as     np"
   ]
  },
  {
   "cell_type": "markdown",
   "id": "6dd821cd",
   "metadata": {},
   "source": [
    "## Load Dataset"
   ]
  },
  {
   "cell_type": "code",
   "execution_count": 61,
   "id": "644791d0",
   "metadata": {},
   "outputs": [],
   "source": [
    "train_set = tfds.load('cmaterdb', split = 'train')"
   ]
  },
  {
   "cell_type": "code",
   "execution_count": 62,
   "id": "6277458d",
   "metadata": {},
   "outputs": [],
   "source": [
    "test_set = tfds.load('cmaterdb', split = 'test')"
   ]
  },
  {
   "cell_type": "markdown",
   "id": "b34608c4",
   "metadata": {},
   "source": [
    "## Data Split masukkan ke List"
   ]
  },
  {
   "cell_type": "code",
   "execution_count": 63,
   "id": "d32cb03d",
   "metadata": {},
   "outputs": [],
   "source": [
    "x_train = []\n",
    "y_train = []\n",
    "\n",
    "for data in train_set:\n",
    "    img   = data[\"image\"]\n",
    "    label = data[\"label\"]\n",
    "    x_train.append(img.numpy())\n",
    "    y_train.append(label.numpy())\n",
    "    \n",
    "x_test = []\n",
    "y_test = []\n",
    "\n",
    "for data in test_set:\n",
    "    img   = data[\"image\"]\n",
    "    label = data[\"label\"]\n",
    "    x_test.append(img.numpy())\n",
    "    y_test.append(label.numpy())"
   ]
  },
  {
   "cell_type": "markdown",
   "id": "cb5e3d13",
   "metadata": {},
   "source": [
    "## Ubah List ke Array"
   ]
  },
  {
   "cell_type": "code",
   "execution_count": 64,
   "id": "8e06cd24",
   "metadata": {},
   "outputs": [],
   "source": [
    "x_train = np.array(x_train)\n",
    "x_test = np.array(x_test)"
   ]
  },
  {
   "cell_type": "code",
   "execution_count": 65,
   "id": "4e26b524",
   "metadata": {},
   "outputs": [
    {
     "data": {
      "text/plain": [
       "(1000, 32, 32, 3)"
      ]
     },
     "execution_count": 65,
     "metadata": {},
     "output_type": "execute_result"
    }
   ],
   "source": [
    "x_test.shape"
   ]
  },
  {
   "cell_type": "markdown",
   "id": "0a187397",
   "metadata": {},
   "source": [
    "## Reshape Array"
   ]
  },
  {
   "cell_type": "code",
   "execution_count": 66,
   "id": "6232619c",
   "metadata": {},
   "outputs": [],
   "source": [
    "x_train = x_train.reshape(5000, 3072)\n",
    "x_test = x_test.reshape(1000, 3072)"
   ]
  },
  {
   "cell_type": "markdown",
   "id": "93d2cc81",
   "metadata": {},
   "source": [
    "## Label Encoding"
   ]
  },
  {
   "cell_type": "code",
   "execution_count": 67,
   "id": "f6c0dae1",
   "metadata": {},
   "outputs": [],
   "source": [
    "y_train = keras.utils.to_categorical(y_train, 10)\n",
    "y_test = keras.utils.to_categorical(y_test, 10)"
   ]
  },
  {
   "cell_type": "code",
   "execution_count": 68,
   "id": "872c0789",
   "metadata": {},
   "outputs": [
    {
     "data": {
      "text/plain": [
       "(5000, 10)"
      ]
     },
     "execution_count": 68,
     "metadata": {},
     "output_type": "execute_result"
    }
   ],
   "source": [
    "y_train.shape"
   ]
  },
  {
   "cell_type": "markdown",
   "id": "734582db",
   "metadata": {},
   "source": [
    "## Membuat Model Sequential"
   ]
  },
  {
   "cell_type": "code",
   "execution_count": 87,
   "id": "31e8467f",
   "metadata": {},
   "outputs": [],
   "source": [
    "modeling = keras.Sequential()\n",
    "\n",
    "modeling.add(keras.layers.Dense(512, activation='relu', input_dim=3072))\n",
    "modeling.add(keras.layers.Dense(256, activation='relu'))\n",
    "modeling.add(keras.layers.Dense(128, activation='relu'))\n",
    "modeling.add(keras.layers.Dense(10, activation='softmax'))"
   ]
  },
  {
   "cell_type": "markdown",
   "id": "2be2b0ac",
   "metadata": {},
   "source": [
    "## Model Fitting"
   ]
  },
  {
   "cell_type": "code",
   "execution_count": 88,
   "id": "b4fca202",
   "metadata": {},
   "outputs": [
    {
     "name": "stdout",
     "output_type": "stream",
     "text": [
      "Epoch 1/10\n",
      "20/20 [==============================] - 1s 32ms/step - loss: 1450.1967 - accuracy: 0.1260\n",
      "Epoch 2/10\n",
      "20/20 [==============================] - 1s 33ms/step - loss: 216.1637 - accuracy: 0.2166\n",
      "Epoch 3/10\n",
      "20/20 [==============================] - 1s 33ms/step - loss: 64.6182 - accuracy: 0.4378\n",
      "Epoch 4/10\n",
      "20/20 [==============================] - 1s 34ms/step - loss: 88.7844 - accuracy: 0.3664\n",
      "Epoch 5/10\n",
      "20/20 [==============================] - 1s 33ms/step - loss: 22.6794 - accuracy: 0.6132\n",
      "Epoch 6/10\n",
      "20/20 [==============================] - 1s 34ms/step - loss: 55.0090 - accuracy: 0.5238\n",
      "Epoch 7/10\n",
      "20/20 [==============================] - 1s 35ms/step - loss: 12.6747 - accuracy: 0.7114\n",
      "Epoch 8/10\n",
      "20/20 [==============================] - 1s 35ms/step - loss: 44.3887 - accuracy: 0.4930\n",
      "Epoch 9/10\n",
      "20/20 [==============================] - 1s 38ms/step - loss: 7.1616 - accuracy: 0.7686\n",
      "Epoch 10/10\n",
      "20/20 [==============================] - 1s 38ms/step - loss: 34.4272 - accuracy: 0.5670\n"
     ]
    }
   ],
   "source": [
    "modeling.compile(optimizer='RMSProp',\n",
    "                loss='categorical_crossentropy',\n",
    "                metrics=['accuracy'])\n",
    "\n",
    "history = modeling.fit(x_train,\n",
    "               y_train,\n",
    "               epochs = 10,\n",
    "               batch_size = 256)"
   ]
  },
  {
   "cell_type": "markdown",
   "id": "5cec3dd0",
   "metadata": {},
   "source": [
    "## Evaluasi"
   ]
  },
  {
   "cell_type": "code",
   "execution_count": 89,
   "id": "7a1f4bdf",
   "metadata": {},
   "outputs": [
    {
     "name": "stdout",
     "output_type": "stream",
     "text": [
      "157/157 [==============================] - 1s 3ms/step - loss: 8.4034 - accuracy: 0.7402\n",
      "LOSS:  8.403429985046387\n",
      "AKURASI:  0.7401999831199646\n"
     ]
    }
   ],
   "source": [
    "eval = modeling.evaluate(x_train, y_train)\n",
    "print(\"LOSS: \", eval[0])\n",
    "print(\"AKURASI: \", eval[1])"
   ]
  },
  {
   "cell_type": "code",
   "execution_count": 90,
   "id": "692a9f3a",
   "metadata": {},
   "outputs": [
    {
     "name": "stdout",
     "output_type": "stream",
     "text": [
      "32/32 [==============================] - 0s 3ms/step - loss: 8.2947 - accuracy: 0.7340\n",
      "LOSS:  8.294711112976074\n",
      "AKURASI:  0.734000027179718\n"
     ]
    }
   ],
   "source": [
    "eval = modeling.evaluate(x_test, y_test)\n",
    "print(\"LOSS: \", eval[0])\n",
    "print(\"AKURASI: \", eval[1])"
   ]
  }
 ],
 "metadata": {
  "kernelspec": {
   "display_name": "Python 3 (ipykernel)",
   "language": "python",
   "name": "python3"
  },
  "language_info": {
   "codemirror_mode": {
    "name": "ipython",
    "version": 3
   },
   "file_extension": ".py",
   "mimetype": "text/x-python",
   "name": "python",
   "nbconvert_exporter": "python",
   "pygments_lexer": "ipython3",
   "version": "3.10.7"
  }
 },
 "nbformat": 4,
 "nbformat_minor": 5
}
