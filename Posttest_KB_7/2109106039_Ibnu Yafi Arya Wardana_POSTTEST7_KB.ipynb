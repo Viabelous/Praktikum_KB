{
 "cells": [
  {
   "cell_type": "code",
   "execution_count": 11,
   "id": "34fb01ec-0d52-4c95-bd99-e7f64fb4181a",
   "metadata": {},
   "outputs": [],
   "source": [
    "import tensorflow as tf\n",
    "from primePy import primes"
   ]
  },
  {
   "cell_type": "markdown",
   "id": "af75947d",
   "metadata": {},
   "source": [
    "## Point 1  \n",
    "Buatlah sebuah tensor dengan shape(5,5) dengan nilai random yang disimpan dalam variable random_tensor"
   ]
  },
  {
   "cell_type": "code",
   "execution_count": 66,
   "id": "ff213c40",
   "metadata": {},
   "outputs": [
    {
     "data": {
      "text/plain": [
       "<tf.Variable 'Variable:0' shape=(5, 5) dtype=float32, numpy=\n",
       "array([[ 0.3796783 , -1.045349  , -0.24580678,  0.08919273, -0.5778024 ],\n",
       "       [ 1.0997059 , -1.1201049 , -0.75265694, -0.9161868 , -0.63139653],\n",
       "       [-0.14814107, -0.20744577, -1.003163  ,  1.7402698 ,  0.67406   ],\n",
       "       [-0.33613265,  1.8068883 , -0.20871554,  0.6085208 ,  1.0634058 ],\n",
       "       [-0.4753047 ,  0.81030756, -1.0491508 ,  1.1265503 ,  0.47061774]],\n",
       "      dtype=float32)>"
      ]
     },
     "execution_count": 66,
     "metadata": {},
     "output_type": "execute_result"
    }
   ],
   "source": [
    "random_tensor = tf.Variable(tf.random.normal([5,5]))\n",
    "random_tensor"
   ]
  },
  {
   "cell_type": "markdown",
   "id": "4c15c166",
   "metadata": {},
   "source": [
    "## Point 2  \n",
    "Buatlah sebuah tensor dengan shape(5,5) dari sebuah list dengan nilai bilangan prima dalam variable prime_tensor"
   ]
  },
  {
   "cell_type": "code",
   "execution_count": 67,
   "id": "2c4d214a",
   "metadata": {},
   "outputs": [
    {
     "data": {
      "text/plain": [
       "<tf.Tensor: shape=(5, 5), dtype=float32, numpy=\n",
       "array([[ 2.,  3.,  5.,  7., 11.],\n",
       "       [13., 17., 19., 23., 29.],\n",
       "       [31., 37., 41., 43., 47.],\n",
       "       [53., 59., 61., 67., 71.],\n",
       "       [73., 79., 83., 89., 97.]], dtype=float32)>"
      ]
     },
     "execution_count": 67,
     "metadata": {},
     "output_type": "execute_result"
    }
   ],
   "source": [
    "list_prime = primes.first(25)\n",
    "\n",
    "for i in range(len(list_prime)-1):\n",
    "    list_prime[i] *= 1.0\n",
    "\n",
    "prime_tensor = tf.Variable(tf.convert_to_tensor(list_prime), dtype='float32')\n",
    "prime_tensor = tf.reshape(prime_tensor, (5, 5))\n",
    "\n",
    "prime_tensor"
   ]
  },
  {
   "cell_type": "markdown",
   "id": "f8d7d9cb",
   "metadata": {},
   "source": [
    "## Point 3  \n",
    "Tampilkan dimensi dari kedua variable tersebut"
   ]
  },
  {
   "cell_type": "code",
   "execution_count": 209,
   "id": "d4e30c12",
   "metadata": {},
   "outputs": [
    {
     "name": "stdout",
     "output_type": "stream",
     "text": [
      "Dimensi random_tensor adalah: (5, 5)\n",
      "Dimensi prime_tensor adalah : (5, 5)\n"
     ]
    }
   ],
   "source": [
    "print(\"Dimensi random_tensor adalah:\", random_tensor.shape)\n",
    "print(\"Dimensi prime_tensor adalah :\", prime_tensor.shape)"
   ]
  },
  {
   "cell_type": "markdown",
   "id": "b2f311c8",
   "metadata": {},
   "source": [
    "## Point 4  \n",
    "Tampilkan hasil dari perhitungan aritmetika 2 variable tersebut (Gunakan minimal 5 operator)"
   ]
  },
  {
   "cell_type": "markdown",
   "id": "32eb55e1",
   "metadata": {},
   "source": [
    "### Add"
   ]
  },
  {
   "cell_type": "code",
   "execution_count": 70,
   "id": "13e0cf1e",
   "metadata": {},
   "outputs": [
    {
     "data": {
      "text/plain": [
       "array([[ 2.3796782,  1.954651 ,  4.7541933,  7.089193 , 10.422197 ],\n",
       "       [14.099706 , 15.879895 , 18.247343 , 22.083813 , 28.368603 ],\n",
       "       [30.851858 , 36.792553 , 39.996838 , 44.74027  , 47.67406  ],\n",
       "       [52.663868 , 60.80689  , 60.791283 , 67.60852  , 72.06341  ],\n",
       "       [72.5247   , 79.81031  , 81.95085  , 90.12655  , 97.47062  ]],\n",
       "      dtype=float32)"
      ]
     },
     "execution_count": 70,
     "metadata": {},
     "output_type": "execute_result"
    }
   ],
   "source": [
    "tf.add(prime_tensor, random_tensor).numpy()"
   ]
  },
  {
   "cell_type": "markdown",
   "id": "a9ae7c41",
   "metadata": {},
   "source": [
    "### Subtract"
   ]
  },
  {
   "cell_type": "code",
   "execution_count": 71,
   "id": "7e758b2f",
   "metadata": {},
   "outputs": [
    {
     "data": {
      "text/plain": [
       "array([[ 1.6203218,  4.045349 ,  5.2458067,  6.910807 , 11.577803 ],\n",
       "       [11.900294 , 18.120106 , 19.752657 , 23.916187 , 29.631397 ],\n",
       "       [31.148142 , 37.207447 , 42.003162 , 41.25973  , 46.32594  ],\n",
       "       [53.336132 , 57.19311  , 61.208717 , 66.39148  , 69.93659  ],\n",
       "       [73.4753   , 78.18969  , 84.04915  , 87.87345  , 96.52938  ]],\n",
       "      dtype=float32)"
      ]
     },
     "execution_count": 71,
     "metadata": {},
     "output_type": "execute_result"
    }
   ],
   "source": [
    "tf.subtract(prime_tensor, random_tensor).numpy()"
   ]
  },
  {
   "cell_type": "markdown",
   "id": "4e6970a2",
   "metadata": {},
   "source": [
    "### Multiply"
   ]
  },
  {
   "cell_type": "code",
   "execution_count": 73,
   "id": "7a4bc129",
   "metadata": {},
   "outputs": [
    {
     "data": {
      "text/plain": [
       "array([[  0.7593566 ,  -3.136047  ,  -1.229034  ,   0.62434906,\n",
       "         -6.3558264 ],\n",
       "       [ 14.296177  , -19.041784  , -14.300482  , -21.072296  ,\n",
       "        -18.3105    ],\n",
       "       [ -4.5923734 ,  -7.6754937 , -41.12968   ,  74.831604  ,\n",
       "         31.680819  ],\n",
       "       [-17.815031  , 106.606415  , -12.731648  ,  40.770893  ,\n",
       "         75.50181   ],\n",
       "       [-34.697243  ,  64.0143    , -87.07952   , 100.26298   ,\n",
       "         45.64992   ]], dtype=float32)"
      ]
     },
     "execution_count": 73,
     "metadata": {},
     "output_type": "execute_result"
    }
   ],
   "source": [
    "tf.multiply(prime_tensor, random_tensor).numpy()"
   ]
  },
  {
   "cell_type": "markdown",
   "id": "3b358993",
   "metadata": {},
   "source": [
    "### Divide"
   ]
  },
  {
   "cell_type": "code",
   "execution_count": 74,
   "id": "6454b7f9",
   "metadata": {},
   "outputs": [
    {
     "data": {
      "text/plain": [
       "array([[   5.267617,   -2.869855,  -20.34118 ,   78.481735,  -19.03765 ],\n",
       "       [  11.821342,  -15.17715 ,  -25.243904,  -25.10405 ,  -45.92993 ],\n",
       "       [-209.26    , -178.35986 ,  -40.870728,   24.708813,   69.72673 ],\n",
       "       [-157.67584 ,   32.65282 , -292.26382 ,  110.10306 ,   66.76661 ],\n",
       "       [-153.5857  ,   97.49384 ,  -79.1116  ,   79.00224 ,  206.11208 ]],\n",
       "      dtype=float32)"
      ]
     },
     "execution_count": 74,
     "metadata": {},
     "output_type": "execute_result"
    }
   ],
   "source": [
    "tf.divide(prime_tensor, random_tensor).numpy()"
   ]
  },
  {
   "cell_type": "markdown",
   "id": "961a1b1b",
   "metadata": {},
   "source": [
    "### Matrix Multiplication"
   ]
  },
  {
   "cell_type": "code",
   "execution_count": 75,
   "id": "69c41b33",
   "metadata": {},
   "outputs": [
    {
     "data": {
      "text/plain": [
       "array([[  -4.263511 ,   15.07336  ,  -20.767067 ,   22.782873 ,\n",
       "          12.941141 ],\n",
       "       [  -0.6987474,   28.48456  ,  -70.27659  ,   65.31539  ,\n",
       "          32.668213 ],\n",
       "       [   9.592341 ,   33.425674 , -134.88286  ,  119.33139  ,\n",
       "          54.208397 ],\n",
       "       [  19.701479 ,   44.449482 , -207.10112  ,  177.58463  ,\n",
       "          77.90378  ],\n",
       "       [  26.27722  ,   57.39613  , -281.00964  ,  242.00842  ,\n",
       "         104.18011  ]], dtype=float32)"
      ]
     },
     "execution_count": 75,
     "metadata": {},
     "output_type": "execute_result"
    }
   ],
   "source": [
    "tf.matmul(prime_tensor, random_tensor).numpy()"
   ]
  },
  {
   "cell_type": "markdown",
   "id": "5f46e77f",
   "metadata": {},
   "source": [
    "## Point 5  \n",
    "Tampilkan nilai maksimal dan minimal dari variable random_tensor"
   ]
  },
  {
   "cell_type": "code",
   "execution_count": 196,
   "id": "a107f42a",
   "metadata": {},
   "outputs": [
    {
     "name": "stdout",
     "output_type": "stream",
     "text": [
      "Nilai max:  1.8068883\n",
      "Nilai min:  -1.1201049\n"
     ]
    }
   ],
   "source": [
    "first = random_tensor[0][0].numpy()\n",
    "\n",
    "max_list = tf.argmax(random_tensor, axis=1).numpy()\n",
    "max_var = first\n",
    "\n",
    "for i in range(0,5):\n",
    "    a = tf.gather_nd(random_tensor,indices=[i])[max_list[i]].numpy()\n",
    "    if (a > max_var):\n",
    "        max_var = a\n",
    "\n",
    "        \n",
    "min_list = tf.argmin(random_tensor, axis=1).numpy()\n",
    "min_var = first\n",
    "\n",
    "for i in range(0,5):\n",
    "    a = tf.gather_nd(random_tensor,indices=[i])[min_list[i]].numpy()\n",
    "    if (a < min_var):\n",
    "        min_var = a\n",
    "    \n",
    "print(\"Nilai max: \", max_var)\n",
    "print(\"Nilai min: \", min_var)"
   ]
  },
  {
   "cell_type": "markdown",
   "id": "c80ddca7",
   "metadata": {},
   "source": [
    "## Point 6  \n",
    "Tampilkan hasil dari penggabungan variable random_tensor dengan prime_tensor (concatenation)"
   ]
  },
  {
   "cell_type": "code",
   "execution_count": 206,
   "id": "826ec9d5",
   "metadata": {},
   "outputs": [
    {
     "data": {
      "text/plain": [
       "array([[ 3.7967831e-01, -1.0453490e+00, -2.4580678e-01,  8.9192726e-02,\n",
       "        -5.7780242e-01],\n",
       "       [ 1.0997059e+00, -1.1201049e+00, -7.5265694e-01, -9.1618681e-01,\n",
       "        -6.3139653e-01],\n",
       "       [-1.4814107e-01, -2.0744577e-01, -1.0031630e+00,  1.7402698e+00,\n",
       "         6.7405999e-01],\n",
       "       [-3.3613265e-01,  1.8068883e+00, -2.0871554e-01,  6.0852081e-01,\n",
       "         1.0634058e+00],\n",
       "       [-4.7530469e-01,  8.1030756e-01, -1.0491508e+00,  1.1265503e+00,\n",
       "         4.7061774e-01],\n",
       "       [ 2.0000000e+00,  3.0000000e+00,  5.0000000e+00,  7.0000000e+00,\n",
       "         1.1000000e+01],\n",
       "       [ 1.3000000e+01,  1.7000000e+01,  1.9000000e+01,  2.3000000e+01,\n",
       "         2.9000000e+01],\n",
       "       [ 3.1000000e+01,  3.7000000e+01,  4.1000000e+01,  4.3000000e+01,\n",
       "         4.7000000e+01],\n",
       "       [ 5.3000000e+01,  5.9000000e+01,  6.1000000e+01,  6.7000000e+01,\n",
       "         7.1000000e+01],\n",
       "       [ 7.3000000e+01,  7.9000000e+01,  8.3000000e+01,  8.9000000e+01,\n",
       "         9.7000000e+01]], dtype=float32)"
      ]
     },
     "execution_count": 206,
     "metadata": {},
     "output_type": "execute_result"
    }
   ],
   "source": [
    "tf.concat([random_tensor, prime_tensor], axis=0).numpy()"
   ]
  },
  {
   "cell_type": "markdown",
   "id": "b0f0d303",
   "metadata": {},
   "source": [
    "## Point 7  \n",
    "Tampilkan hasil sorting dari kedua variable di atas. (descending)"
   ]
  },
  {
   "cell_type": "markdown",
   "id": "c2a52603",
   "metadata": {},
   "source": [
    "### 1. Random Tensor"
   ]
  },
  {
   "cell_type": "code",
   "execution_count": 202,
   "id": "d0244021",
   "metadata": {},
   "outputs": [
    {
     "data": {
      "text/plain": [
       "array([[ 0.3796783 ,  0.08919273, -0.24580678, -0.5778024 , -1.045349  ],\n",
       "       [ 1.0997059 , -0.63139653, -0.75265694, -0.9161868 , -1.1201049 ],\n",
       "       [ 1.7402698 ,  0.67406   , -0.14814107, -0.20744577, -1.003163  ],\n",
       "       [ 1.8068883 ,  1.0634058 ,  0.6085208 , -0.20871554, -0.33613265],\n",
       "       [ 1.1265503 ,  0.81030756,  0.47061774, -0.4753047 , -1.0491508 ]],\n",
       "      dtype=float32)"
      ]
     },
     "execution_count": 202,
     "metadata": {},
     "output_type": "execute_result"
    }
   ],
   "source": [
    "tf.sort(random_tensor, direction=\"DESCENDING\").numpy()"
   ]
  },
  {
   "cell_type": "markdown",
   "id": "9ed0b800",
   "metadata": {},
   "source": [
    "### 2. Prime Tensor"
   ]
  },
  {
   "cell_type": "code",
   "execution_count": 205,
   "id": "cc6d5b12",
   "metadata": {},
   "outputs": [
    {
     "data": {
      "text/plain": [
       "array([[11.,  7.,  5.,  3.,  2.],\n",
       "       [29., 23., 19., 17., 13.],\n",
       "       [47., 43., 41., 37., 31.],\n",
       "       [71., 67., 61., 59., 53.],\n",
       "       [97., 89., 83., 79., 73.]], dtype=float32)"
      ]
     },
     "execution_count": 205,
     "metadata": {},
     "output_type": "execute_result"
    }
   ],
   "source": [
    "tf.sort(prime_tensor, direction=\"DESCENDING\").numpy()"
   ]
  }
 ],
 "metadata": {
  "kernelspec": {
   "display_name": "Python 3 (ipykernel)",
   "language": "python",
   "name": "python3"
  },
  "language_info": {
   "codemirror_mode": {
    "name": "ipython",
    "version": 3
   },
   "file_extension": ".py",
   "mimetype": "text/x-python",
   "name": "python",
   "nbconvert_exporter": "python",
   "pygments_lexer": "ipython3",
   "version": "3.10.7"
  }
 },
 "nbformat": 4,
 "nbformat_minor": 5
}
