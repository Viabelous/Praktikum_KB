{
 "cells": [
  {
   "cell_type": "markdown",
   "id": "8e7153a2",
   "metadata": {},
   "source": [
    "Ibnu Yafi Arya Wardana  \n",
    "2109106039  \n",
    "A2-21 INFORMATIKA"
   ]
  },
  {
   "cell_type": "markdown",
   "id": "d3e4ba30",
   "metadata": {},
   "source": [
    "#### Library + File Reading"
   ]
  },
  {
   "cell_type": "code",
   "execution_count": 1,
   "id": "aa7000ce",
   "metadata": {},
   "outputs": [],
   "source": [
    "import pandas  as pd\n",
    "import seaborn as sns\n",
    "import numpy   as np\n",
    "from   sklearn.neighbors       import KNeighborsClassifier\n",
    "from   sklearn.tree            import DecisionTreeClassifier\n",
    "from   sklearn.model_selection import train_test_split\n",
    "from   sklearn.impute          import SimpleImputer"
   ]
  },
  {
   "cell_type": "code",
   "execution_count": 2,
   "id": "07090019",
   "metadata": {},
   "outputs": [],
   "source": [
    "df = pd.read_csv(\"phones_data.csv\")"
   ]
  },
  {
   "cell_type": "markdown",
   "id": "05443b81",
   "metadata": {},
   "source": [
    "### NULL CLEANING"
   ]
  },
  {
   "cell_type": "code",
   "execution_count": 3,
   "id": "0107372f",
   "metadata": {},
   "outputs": [],
   "source": [
    "imputer = SimpleImputer(strategy='most_frequent')\n",
    "df['os'] = imputer.fit_transform(df[['os']])\n",
    "df['battery_size'] = imputer.fit_transform(df[['battery_size']])\n",
    "df['memory_size'] = imputer.fit_transform(df[['memory_size']])"
   ]
  },
  {
   "cell_type": "markdown",
   "id": "b4e4619d",
   "metadata": {},
   "source": [
    "# Data Splitting"
   ]
  },
  {
   "cell_type": "code",
   "execution_count": 13,
   "id": "8732f66c",
   "metadata": {},
   "outputs": [],
   "source": [
    "X = df[['best_price', 'battery_size', 'memory_size']]\n",
    "Y = df['os']\n",
    "\n",
    "X_train, X_test, Y_train, Y_test = train_test_split(X, Y, test_size=0.1, random_state=0)"
   ]
  },
  {
   "cell_type": "markdown",
   "id": "acc610e8",
   "metadata": {},
   "source": [
    "## Supervised Learning Algorithm Function"
   ]
  },
  {
   "cell_type": "code",
   "execution_count": 14,
   "id": "9dc09221",
   "metadata": {},
   "outputs": [],
   "source": [
    "def supervise(a_train, a_test, b_train, b_test, jalur):\n",
    "    if (jalur == \"KNN\"):\n",
    "        model = KNeighborsClassifier(n_neighbors = 5)\n",
    "        jenis = \"KNN\"\n",
    "    elif(jalur == \"DTree\"):\n",
    "        model = DecisionTreeClassifier()\n",
    "        jenis = \"DTree\"\n",
    "        \n",
    "    model.fit(a_train, b_train)\n",
    "    \n",
    "    score = {\n",
    "             'Akurasi Training' : [model.score(a_train, b_train)],\n",
    "             'Akurasi Testing'  : [model.score(a_test, b_test)]\n",
    "            }\n",
    "    \n",
    "    hasil = pd.DataFrame(data=score).style.hide(axis=\"index\")\n",
    "    \n",
    "    return hasil"
   ]
  },
  {
   "cell_type": "markdown",
   "id": "61034f58",
   "metadata": {},
   "source": [
    "## Score K-Nearest Neighbor"
   ]
  },
  {
   "cell_type": "code",
   "execution_count": 15,
   "id": "5942e937",
   "metadata": {},
   "outputs": [
    {
     "data": {
      "text/html": [
       "<style type=\"text/css\">\n",
       "</style>\n",
       "<table id=\"T_f092d\">\n",
       "  <thead>\n",
       "    <tr>\n",
       "      <th id=\"T_f092d_level0_col0\" class=\"col_heading level0 col0\" >Akurasi Training</th>\n",
       "      <th id=\"T_f092d_level0_col1\" class=\"col_heading level0 col1\" >Akurasi Testing</th>\n",
       "    </tr>\n",
       "  </thead>\n",
       "  <tbody>\n",
       "    <tr>\n",
       "      <td id=\"T_f092d_row0_col0\" class=\"data row0 col0\" >0.961853</td>\n",
       "      <td id=\"T_f092d_row0_col1\" class=\"data row0 col1\" >0.967480</td>\n",
       "    </tr>\n",
       "  </tbody>\n",
       "</table>\n"
      ],
      "text/plain": [
       "<pandas.io.formats.style.Styler at 0x17ccf713490>"
      ]
     },
     "execution_count": 15,
     "metadata": {},
     "output_type": "execute_result"
    }
   ],
   "source": [
    "supervise(X_train, X_test, Y_train, Y_test,\"KNN\")"
   ]
  },
  {
   "cell_type": "markdown",
   "id": "fe93f0bb",
   "metadata": {},
   "source": [
    "## Score Decision Tree"
   ]
  },
  {
   "cell_type": "code",
   "execution_count": 16,
   "id": "064a8dd5",
   "metadata": {},
   "outputs": [
    {
     "data": {
      "text/html": [
       "<style type=\"text/css\">\n",
       "</style>\n",
       "<table id=\"T_7b48a\">\n",
       "  <thead>\n",
       "    <tr>\n",
       "      <th id=\"T_7b48a_level0_col0\" class=\"col_heading level0 col0\" >Akurasi Training</th>\n",
       "      <th id=\"T_7b48a_level0_col1\" class=\"col_heading level0 col1\" >Akurasi Testing</th>\n",
       "    </tr>\n",
       "  </thead>\n",
       "  <tbody>\n",
       "    <tr>\n",
       "      <td id=\"T_7b48a_row0_col0\" class=\"data row0 col0\" >1.000000</td>\n",
       "      <td id=\"T_7b48a_row0_col1\" class=\"data row0 col1\" >0.951220</td>\n",
       "    </tr>\n",
       "  </tbody>\n",
       "</table>\n"
      ],
      "text/plain": [
       "<pandas.io.formats.style.Styler at 0x17ccf713a30>"
      ]
     },
     "execution_count": 16,
     "metadata": {},
     "output_type": "execute_result"
    }
   ],
   "source": [
    "supervise(X_train, X_test, Y_train, Y_test,\"DTree\")"
   ]
  }
 ],
 "metadata": {
  "kernelspec": {
   "display_name": "Python 3 (ipykernel)",
   "language": "python",
   "name": "python3"
  },
  "language_info": {
   "codemirror_mode": {
    "name": "ipython",
    "version": 3
   },
   "file_extension": ".py",
   "mimetype": "text/x-python",
   "name": "python",
   "nbconvert_exporter": "python",
   "pygments_lexer": "ipython3",
   "version": "3.10.7"
  }
 },
 "nbformat": 4,
 "nbformat_minor": 5
}
